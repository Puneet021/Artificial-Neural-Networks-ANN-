{
 "cells": [
  {
   "cell_type": "markdown",
   "metadata": {},
   "source": [
    "# Convolutional Neural Network"
   ]
  },
  {
   "cell_type": "markdown",
   "metadata": {},
   "source": [
    "importing libraries"
   ]
  },
  {
   "cell_type": "code",
   "execution_count": 1,
   "metadata": {},
   "outputs": [],
   "source": [
    "import tensorflow as tf\n",
    "from keras.preprocessing.image import ImageDataGenerator"
   ]
  },
  {
   "cell_type": "code",
   "execution_count": 2,
   "metadata": {},
   "outputs": [
    {
     "data": {
      "text/plain": [
       "'1.15.0'"
      ]
     },
     "execution_count": 2,
     "metadata": {},
     "output_type": "execute_result"
    }
   ],
   "source": [
    "# Checking the version of tensorflow\n",
    "tf.__version__"
   ]
  },
  {
   "cell_type": "markdown",
   "metadata": {},
   "source": [
    "## Data Preprocessing\n",
    "\n",
    "#### Training data processing"
   ]
  },
  {
   "cell_type": "code",
   "execution_count": 3,
   "metadata": {},
   "outputs": [
    {
     "name": "stdout",
     "output_type": "stream",
     "text": [
      "Found 8000 images belonging to 2 classes.\n"
     ]
    }
   ],
   "source": [
    "train_datagen = ImageDataGenerator(\n",
    "                rescale = 1./255,\n",
    "                shear_range = 0.2,\n",
    "                horizontal_flip = True)\n",
    "training_dataset = train_datagen.flow_from_directory(\n",
    "                    \"data/training_set\",\n",
    "                    target_size = (150,150),\n",
    "                    batch_size = 32,\n",
    "                    class_mode = 'binary')"
   ]
  },
  {
   "cell_type": "markdown",
   "metadata": {},
   "source": [
    "#### Test data preprocessing"
   ]
  },
  {
   "cell_type": "code",
   "execution_count": 4,
   "metadata": {},
   "outputs": [
    {
     "name": "stdout",
     "output_type": "stream",
     "text": [
      "Found 2000 images belonging to 2 classes.\n"
     ]
    }
   ],
   "source": [
    "test_datagen = ImageDataGenerator(rescale = 1./255)\n",
    "test_dataset = test_datagen.flow_from_directory(\n",
    "                'data/test_set',\n",
    "                target_size = (150,150),\n",
    "                batch_size = 32,\n",
    "                class_mode = 'binary')"
   ]
  },
  {
   "cell_type": "markdown",
   "metadata": {},
   "source": [
    "## Building the CNN\n",
    "\n",
    "### Initialising CNN"
   ]
  },
  {
   "cell_type": "code",
   "execution_count": 5,
   "metadata": {},
   "outputs": [],
   "source": [
    "cnn = tf.keras.models.Sequential()"
   ]
  },
  {
   "cell_type": "markdown",
   "metadata": {},
   "source": [
    "**Adding first convoutional layer to our model**"
   ]
  },
  {
   "cell_type": "code",
   "execution_count": 6,
   "metadata": {},
   "outputs": [
    {
     "name": "stdout",
     "output_type": "stream",
     "text": [
      "WARNING:tensorflow:From C:\\Users\\punee\\anaconda3\\lib\\site-packages\\tensorflow_core\\python\\ops\\resource_variable_ops.py:1630: calling BaseResourceVariable.__init__ (from tensorflow.python.ops.resource_variable_ops) with constraint is deprecated and will be removed in a future version.\n",
      "Instructions for updating:\n",
      "If using Keras pass *_constraint arguments to layers.\n"
     ]
    }
   ],
   "source": [
    "cnn.add(tf.keras.layers.Conv2D(filters=32,\n",
    "                               kernel_size=3,\n",
    "                               activation='relu',\n",
    "                               input_shape=[150, 150,3]))"
   ]
  },
  {
   "cell_type": "markdown",
   "metadata": {},
   "source": [
    "###### Pooling"
   ]
  },
  {
   "cell_type": "code",
   "execution_count": 8,
   "metadata": {},
   "outputs": [],
   "source": [
    "cnn.add(tf.keras.layers.MaxPool2D(pool_size=2, strides=2))"
   ]
  },
  {
   "cell_type": "markdown",
   "metadata": {},
   "source": [
    "**Adding second layer to our convolutional model**"
   ]
  },
  {
   "cell_type": "code",
   "execution_count": 9,
   "metadata": {},
   "outputs": [],
   "source": [
    "cnn.add(tf.keras.layers.Conv2D(filters=32,\n",
    "                               kernel_size=3,\n",
    "                               activation='relu'))\n",
    "cnn.add(tf.keras.layers.MaxPool2D(pool_size=2, strides=2))"
   ]
  },
  {
   "cell_type": "markdown",
   "metadata": {},
   "source": [
    "##### Flattening"
   ]
  },
  {
   "cell_type": "code",
   "execution_count": 10,
   "metadata": {},
   "outputs": [],
   "source": [
    "cnn.add(tf.keras.layers.Flatten())"
   ]
  },
  {
   "cell_type": "markdown",
   "metadata": {},
   "source": [
    "**Full Connection**"
   ]
  },
  {
   "cell_type": "code",
   "execution_count": 11,
   "metadata": {},
   "outputs": [],
   "source": [
    "cnn.add(tf.keras.layers.Dense(units=128, activation='relu'))"
   ]
  },
  {
   "cell_type": "markdown",
   "metadata": {},
   "source": [
    "**Output Layer**"
   ]
  },
  {
   "cell_type": "code",
   "execution_count": 12,
   "metadata": {},
   "outputs": [],
   "source": [
    "cnn.add(tf.keras.layers.Dense(units=1, activation='sigmoid'))"
   ]
  },
  {
   "cell_type": "markdown",
   "metadata": {},
   "source": [
    "## Training CNN\n",
    "\n",
    "#### Compiling CNN"
   ]
  },
  {
   "cell_type": "code",
   "execution_count": 13,
   "metadata": {},
   "outputs": [
    {
     "name": "stdout",
     "output_type": "stream",
     "text": [
      "WARNING:tensorflow:From C:\\Users\\punee\\anaconda3\\lib\\site-packages\\tensorflow_core\\python\\ops\\nn_impl.py:183: where (from tensorflow.python.ops.array_ops) is deprecated and will be removed in a future version.\n",
      "Instructions for updating:\n",
      "Use tf.where in 2.0, which has the same broadcast rule as np.where\n"
     ]
    }
   ],
   "source": [
    "cnn.compile(optimizer= 'adam',\n",
    "            loss= 'binary_crossentropy',\n",
    "            metrics= ['accuracy'])"
   ]
  },
  {
   "cell_type": "code",
   "execution_count": 19,
   "metadata": {},
   "outputs": [
    {
     "name": "stdout",
     "output_type": "stream",
     "text": [
      "Epoch 1/25\n",
      "249/250 [============================>.] - ETA: 1s - loss: 0.6711 - acc: 0.6014Epoch 1/25\n",
      "250/250 [==============================] - 290s 1s/step - loss: 0.6706 - acc: 0.6022 - val_loss: 0.5894 - val_acc: 0.6860\n",
      "Epoch 2/25\n",
      "249/250 [============================>.] - ETA: 0s - loss: 0.5553 - acc: 0.7164Epoch 1/25\n",
      "250/250 [==============================] - 233s 932ms/step - loss: 0.5553 - acc: 0.7165 - val_loss: 0.5490 - val_acc: 0.7145\n",
      "Epoch 3/25\n",
      "249/250 [============================>.] - ETA: 0s - loss: 0.4939 - acc: 0.7587Epoch 1/25\n",
      "250/250 [==============================] - 234s 935ms/step - loss: 0.4936 - acc: 0.7590 - val_loss: 0.5021 - val_acc: 0.7590\n",
      "Epoch 4/25\n",
      "249/250 [============================>.] - ETA: 0s - loss: 0.4232 - acc: 0.8057Epoch 1/25\n",
      "250/250 [==============================] - 229s 915ms/step - loss: 0.4229 - acc: 0.8058 - val_loss: 0.4992 - val_acc: 0.7655\n",
      "Epoch 5/25\n",
      "249/250 [============================>.] - ETA: 0s - loss: 0.3637 - acc: 0.8425Epoch 1/25\n",
      "250/250 [==============================] - 229s 917ms/step - loss: 0.3640 - acc: 0.8425 - val_loss: 0.5410 - val_acc: 0.7590\n",
      "Epoch 6/25\n",
      "249/250 [============================>.] - ETA: 0s - loss: 0.3037 - acc: 0.8707Epoch 1/25\n",
      "250/250 [==============================] - 225s 901ms/step - loss: 0.3040 - acc: 0.8705 - val_loss: 0.6338 - val_acc: 0.7500\n",
      "Epoch 7/25\n",
      "249/250 [============================>.] - ETA: 0s - loss: 0.2492 - acc: 0.9007Epoch 1/25\n",
      "250/250 [==============================] - 222s 887ms/step - loss: 0.2501 - acc: 0.9001 - val_loss: 0.5634 - val_acc: 0.7655\n",
      "Epoch 8/25\n",
      "249/250 [============================>.] - ETA: 0s - loss: 0.2114 - acc: 0.9163Epoch 1/25\n",
      "250/250 [==============================] - 228s 911ms/step - loss: 0.2113 - acc: 0.9164 - val_loss: 0.5875 - val_acc: 0.7720\n",
      "Epoch 9/25\n",
      "249/250 [============================>.] - ETA: 0s - loss: 0.1749 - acc: 0.9335Epoch 1/25\n",
      "250/250 [==============================] - 226s 904ms/step - loss: 0.1753 - acc: 0.9334 - val_loss: 0.6162 - val_acc: 0.7790\n",
      "Epoch 10/25\n",
      "249/250 [============================>.] - ETA: 0s - loss: 0.1271 - acc: 0.9547Epoch 1/25\n",
      "250/250 [==============================] - 227s 909ms/step - loss: 0.1268 - acc: 0.9549 - val_loss: 0.6927 - val_acc: 0.7725\n",
      "Epoch 11/25\n",
      "249/250 [============================>.] - ETA: 0s - loss: 0.0955 - acc: 0.9675Epoch 1/25\n",
      "250/250 [==============================] - 227s 907ms/step - loss: 0.0955 - acc: 0.9675 - val_loss: 0.7741 - val_acc: 0.7720\n",
      "Epoch 12/25\n",
      "249/250 [============================>.] - ETA: 2s - loss: 0.0753 - acc: 0.9754Epoch 1/25\n",
      "250/250 [==============================] - 691s 3s/step - loss: 0.0751 - acc: 0.9755 - val_loss: 0.8363 - val_acc: 0.7715\n",
      "Epoch 13/25\n",
      "249/250 [============================>.] - ETA: 0s - loss: 0.0533 - acc: 0.9819Epoch 1/25\n",
      "250/250 [==============================] - 275s 1s/step - loss: 0.0542 - acc: 0.9819 - val_loss: 0.9984 - val_acc: 0.7575\n",
      "Epoch 14/25\n",
      "249/250 [============================>.] - ETA: 0s - loss: 0.0434 - acc: 0.9869Epoch 1/25\n",
      "250/250 [==============================] - 228s 912ms/step - loss: 0.0434 - acc: 0.9870 - val_loss: 1.0329 - val_acc: 0.7605\n",
      "Epoch 15/25\n",
      "249/250 [============================>.] - ETA: 0s - loss: 0.0597 - acc: 0.9793Epoch 1/25\n",
      "250/250 [==============================] - 203s 814ms/step - loss: 0.0598 - acc: 0.9793 - val_loss: 1.1866 - val_acc: 0.7445\n",
      "Epoch 16/25\n",
      "249/250 [============================>.] - ETA: 0s - loss: 0.0300 - acc: 0.9916Epoch 1/25\n",
      "250/250 [==============================] - 215s 859ms/step - loss: 0.0300 - acc: 0.9916 - val_loss: 1.1726 - val_acc: 0.7670\n",
      "Epoch 17/25\n",
      "249/250 [============================>.] - ETA: 0s - loss: 0.0254 - acc: 0.9920Epoch 1/25\n",
      "250/250 [==============================] - 226s 903ms/step - loss: 0.0254 - acc: 0.9920 - val_loss: 1.2111 - val_acc: 0.7620\n",
      "Epoch 18/25\n",
      "249/250 [============================>.] - ETA: 0s - loss: 0.0195 - acc: 0.9945Epoch 1/25\n",
      "250/250 [==============================] - 224s 897ms/step - loss: 0.0195 - acc: 0.9945 - val_loss: 1.3671 - val_acc: 0.7595\n",
      "Epoch 19/25\n",
      "249/250 [============================>.] - ETA: 0s - loss: 0.0323 - acc: 0.9897Epoch 1/25\n",
      "250/250 [==============================] - 229s 917ms/step - loss: 0.0323 - acc: 0.9898 - val_loss: 1.2349 - val_acc: 0.7575\n",
      "Epoch 20/25\n",
      "249/250 [============================>.] - ETA: 0s - loss: 0.0144 - acc: 0.9961Epoch 1/25\n",
      "250/250 [==============================] - 225s 901ms/step - loss: 0.0144 - acc: 0.9961 - val_loss: 1.3104 - val_acc: 0.7610\n",
      "Epoch 21/25\n",
      "249/250 [============================>.] - ETA: 0s - loss: 0.0182 - acc: 0.9945Epoch 1/25\n",
      "250/250 [==============================] - 231s 923ms/step - loss: 0.0182 - acc: 0.9945 - val_loss: 1.3725 - val_acc: 0.7720\n",
      "Epoch 22/25\n",
      "249/250 [============================>.] - ETA: 0s - loss: 0.0160 - acc: 0.9960Epoch 1/25\n",
      "250/250 [==============================] - 233s 932ms/step - loss: 0.0159 - acc: 0.9960 - val_loss: 1.3834 - val_acc: 0.7630\n",
      "Epoch 23/25\n",
      "249/250 [============================>.] - ETA: 0s - loss: 0.0252 - acc: 0.9910Epoch 1/25\n",
      "250/250 [==============================] - 237s 946ms/step - loss: 0.0251 - acc: 0.9910 - val_loss: 1.4761 - val_acc: 0.7610\n",
      "Epoch 24/25\n",
      "249/250 [============================>.] - ETA: 0s - loss: 0.0300 - acc: 0.9915Epoch 1/25\n",
      "250/250 [==============================] - 204s 815ms/step - loss: 0.0300 - acc: 0.9915 - val_loss: 1.4325 - val_acc: 0.7695\n",
      "Epoch 25/25\n",
      "249/250 [============================>.] - ETA: 0s - loss: 0.0304 - acc: 0.9900Epoch 1/25\n",
      "250/250 [==============================] - 148s 594ms/step - loss: 0.0304 - acc: 0.9900 - val_loss: 1.4205 - val_acc: 0.7615\n"
     ]
    },
    {
     "data": {
      "text/plain": [
       "<tensorflow.python.keras.callbacks.History at 0x1f45d8684c8>"
      ]
     },
     "execution_count": 19,
     "metadata": {},
     "output_type": "execute_result"
    }
   ],
   "source": [
    "cnn.fit(x = training_dataset, validation_data = test_dataset, epochs=25)"
   ]
  },
  {
   "cell_type": "markdown",
   "metadata": {},
   "source": [
    "### Making Prediction"
   ]
  },
  {
   "cell_type": "code",
   "execution_count": 25,
   "metadata": {},
   "outputs": [],
   "source": [
    "import numpy as np\n",
    "from keras.preprocessing import image\n",
    "test_image = image.load_img(\"data/single_prediction/cat_or_dog_1.jpg\", target_size=(150, 150))\n",
    "test_image = image.img_to_array(test_image)\n",
    "test_image = np.expand_dims(test_image, axis=0)"
   ]
  },
  {
   "cell_type": "code",
   "execution_count": 26,
   "metadata": {},
   "outputs": [
    {
     "name": "stdout",
     "output_type": "stream",
     "text": [
      "dog\n"
     ]
    }
   ],
   "source": [
    "result = cnn.predict(test_image)\n",
    "training_dataset.class_indices\n",
    "if result[0][0] == 1:\n",
    "    prediction = 'dog'\n",
    "else:\n",
    "    prediction = 'cat'\n",
    "    \n",
    "print(prediction)"
   ]
  },
  {
   "cell_type": "code",
   "execution_count": 27,
   "metadata": {},
   "outputs": [
    {
     "name": "stdout",
     "output_type": "stream",
     "text": [
      "cat\n"
     ]
    }
   ],
   "source": [
    "test_image_2 = image.load_img(\"data/single_prediction/cat_or_dog_2.jpg\", target_size=(150, 150))\n",
    "test_image_2 = image.img_to_array(test_image_2)\n",
    "test_image_2 = np.expand_dims(test_image_2, axis=0)\n",
    "result_2 = cnn.predict(test_image_2)\n",
    "training_dataset.class_indices\n",
    "if result_2[0][0] == 1:\n",
    "    prediction_2 = 'dog'\n",
    "else:\n",
    "    prediction_2 = 'cat'\n",
    "    \n",
    "print(prediction_2)"
   ]
  },
  {
   "cell_type": "code",
   "execution_count": 38,
   "metadata": {},
   "outputs": [
    {
     "name": "stdout",
     "output_type": "stream",
     "text": [
      "cat\n"
     ]
    }
   ],
   "source": [
    "test_image_3 = image.load_img(\"data/single_prediction/cat_or_dog_3.jpg\", target_size=(150, 150))\n",
    "test_image_3 = image.img_to_array(test_image_3)\n",
    "test_image_3 = np.expand_dims(test_image_3, axis=0)\n",
    "result_3 = cnn.predict(test_image_3)\n",
    "training_dataset.class_indices\n",
    "if result_3[0][0] == 1:\n",
    "    prediction_3 = 'dog'\n",
    "else:\n",
    "    prediction_3 = 'cat'\n",
    "    \n",
    "print(prediction_2)"
   ]
  },
  {
   "cell_type": "code",
   "execution_count": null,
   "metadata": {},
   "outputs": [],
   "source": []
  }
 ],
 "metadata": {
  "kernelspec": {
   "display_name": "Python 3",
   "language": "python",
   "name": "python3"
  },
  "language_info": {
   "codemirror_mode": {
    "name": "ipython",
    "version": 3
   },
   "file_extension": ".py",
   "mimetype": "text/x-python",
   "name": "python",
   "nbconvert_exporter": "python",
   "pygments_lexer": "ipython3",
   "version": "3.7.6"
  }
 },
 "nbformat": 4,
 "nbformat_minor": 4
}
